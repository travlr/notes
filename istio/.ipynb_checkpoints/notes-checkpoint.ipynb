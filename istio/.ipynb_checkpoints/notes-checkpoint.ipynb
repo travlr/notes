{
 "cells": [
  {
   "cell_type": "markdown",
   "metadata": {},
   "source": [
    "Istio provides and easy way to create a network of deployed services"
   ]
  },
  {
   "cell_type": "markdown",
   "metadata": {},
   "source": [
    "# Components and Considerations\n",
    "\n",
    "- Load Balancing\n",
    "- S2S and E2E Auth\n",
    "- Monitoring\n",
    "- Service Discovery\n",
    "- Failure Recovery\n",
    "- Metrics collection and reporting\n",
    "- Intelligent Routing\n",
    "    - A/B testing\n",
    "    - Canary releases\n",
    "    - etc\n",
    "- Resiliency\n",
    "    - timeouts\n",
    "    - retries\n",
    "    - circuit breakers\n",
    "    - etc\n",
    "- Rate limiting\n",
    "- Access Control\n",
    "- Attributes\n",
    "- Mixer\n",
    "- Pilot\n",
    "- Extensible to "
   ]
  },
  {
   "cell_type": "markdown",
   "metadata": {},
   "source": [
    "# Mixer\n",
    "\n",
    "- A platform independent component\n",
    "    - Usage policy\n",
    "    - Access Control\n",
    "    - Telemetry Data\n",
    "- Flexible plugin model\n",
    "    - enables interfacing with variety of host envs and infrastructure backends\n",
    "    - abstracts istio managed services from above bullet's details"
   ]
  },
  {
   "cell_type": "markdown",
   "metadata": {},
   "source": [
    "# Pilot\n",
    "\n",
    "- Service Discovery\n",
    "- Abstracts platform specific SD mechanisms "
   ]
  },
  {
   "cell_type": "markdown",
   "metadata": {},
   "source": [
    "# Data Plane\n",
    "\n",
    "- Composed of a set of intelligent proxies (Envoy) deployed as sidecars that mediate and control network communication between microservices"
   ]
  },
  {
   "cell_type": "markdown",
   "metadata": {},
   "source": [
    "# Control Plane\n",
    "\n",
    "- Responsible for managing and configuring proxies to route traffic and enforcing policies at runtime"
   ]
  },
  {
   "cell_type": "markdown",
   "metadata": {},
   "source": [
    "# Envoy\n",
    "\n",
    "- Mediates all inbound and outbound traffic for all services in the service mesh\n",
    "- Dynamic service discovery\n",
    "- load balancing\n",
    "- tls termination\n",
    "- http/2 & grpc proxying\n",
    "- circuit \n",
    "- health checks\n",
    "- staged rollouts w/ % based traffic split\n",
    "- fault injection\n",
    "- rich metrics\n",
    "- extracts signals about traffic behavior (requests, etc) that istio calls \"attributes\"\n",
    "    - Used in \"mixer\" to \n",
    "        - enforce policy decisions\n",
    "        - send to monitoring systems to provide information about the behavior of \n",
    "          the mesh"
   ]
  },
  {
   "cell_type": "markdown",
   "metadata": {},
   "source": [
    "# Istio-Auth\n",
    "\n",
    "- Provides strong S2S and E2E auth\n",
    "- Uses mutual TLS\n",
    "- Built in identity and credential management\n",
    "- Can be used to upgrade unencrypted traffic in the mesh\n",
    "- Enables enforcement of policy based on service identity rather than network controls\n",
    "- Future releases will add fine grained access control and auditing to control and monitor who accesses:\n",
    "    - a service\n",
    "    - api\n",
    "    - resource\n",
    "- access control:\n",
    "    - attributes\n",
    "    - RBAC\n",
    "    - Auth hooks"
   ]
  }
 ],
 "metadata": {
  "kernelspec": {
   "display_name": "Go",
   "language": "go",
   "name": "gophernotes"
  },
  "language_info": {
   "codemirror_mode": "",
   "file_extension": ".go",
   "mimetype": "",
   "name": "go",
   "nbconvert_exporter": "",
   "pygments_lexer": "",
   "version": "go1.9.1"
  },
  "toc": {
   "colors": {
    "hover_highlight": "#DAA520",
    "running_highlight": "#FF0000",
    "selected_highlight": "#FFD700"
   },
   "moveMenuLeft": true,
   "nav_menu": {
    "height": "140px",
    "width": "252px"
   },
   "navigate_menu": true,
   "number_sections": true,
   "sideBar": true,
   "threshold": 4,
   "toc_cell": false,
   "toc_section_display": "block",
   "toc_window_display": false
  }
 },
 "nbformat": 4,
 "nbformat_minor": 2
}
