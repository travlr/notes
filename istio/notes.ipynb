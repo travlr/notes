{
 "cells": [
  {
   "cell_type": "markdown",
   "metadata": {},
   "source": [
    "Istio provides and easy way to create a network of deployed services"
   ]
  },
  {
   "cell_type": "markdown",
   "metadata": {},
   "source": [
    "# Components and Considerations\n",
    "\n",
    "- Load Balancing\n",
    "- S2S and E2E Auth\n",
    "- Monitoring\n",
    "- Service Discovery\n",
    "- Failure Recovery\n",
    "- Metrics collection and reporting\n",
    "- Intelligent Routing\n",
    "    - A/B testing\n",
    "    - Canary releases\n",
    "    - etc\n",
    "- Resiliency\n",
    "    - timeouts\n",
    "    - retries\n",
    "    - circuit breakers\n",
    "    - etc\n",
    "- Rate limiting\n",
    "- Access Control\n",
    "- Attributes\n",
    "- Mixer\n",
    "- Pilot\n",
    "- Policy Application is extensible\n",
    "    - API calls within the service mesh\n",
    "    - resources which are not necessarily expressed at API \n",
    "        - quota to amount of CPU consumed\n",
    "    - maintained as a distinct service with its own API \n",
    "        - allows services to directly integrate with it as needed\n",
    "- Istio assumes\n",
    "    - a service registry\n",
    "        - keep track of the pods/VMs of a service\n",
    "    - new instances of a service are automatically registered with the SR\n",
    "    - unhealthy instances are automatically removed\n",
    "        - kubernetes (builtin)\n",
    "        - See solutions for VM based apps\n",
    "- Service discovery\n",
    "    - Pilot \n",
    "        - consumes info from the service registry\n",
    "        - provides platform-agnostic service discovery interface\n",
    "        - dynamically updates load-balancing pools accordingly\n",
    "    - services access each other using DNS names\n",
    "    - all http traffic bound to a service is automatically re-routed through Envoy\n",
    "    - Envoy distributes traffic across instances in the LB pool\n",
    "- Load balancing modes\n",
    "    - round robin\n",
    "    - random\n",
    "    - weighted least request\n",
    "- Health checks\n",
    "    - Envoy follows a circuit breaker style pattern to classify instances as unhealthy or healthy\n",
    "        - based on failure rates for the health check API call\n",
    "    - automatic ejection of unhealthy pods from the LB pool\n",
    "    - Services can actively shed load by responding with HTTP 503 to a health check\n",
    "        - the service instance will be immediately removed from the caller's LB pool"
   ]
  },
  {
   "cell_type": "markdown",
   "metadata": {},
   "source": [
    "# Mixer\n",
    "\n",
    "- A platform independent component\n",
    "    - Usage policy\n",
    "    - Access Control\n",
    "    - Telemetry Data\n",
    "- Flexible plugin model\n",
    "    - enables interfacing with variety of host envs and infrastructure backends\n",
    "    - abstracts istio managed services from above bullet's details\n",
    "- Uses \"Mixer Configuration\"\n",
    "    - DSL to control how API calls and L4 traffic flow across various services\n",
    "    - configure service level properties such as \n",
    "        - circuit breakers\n",
    "        - timeouts\n",
    "        - retries\n",
    "        - common continuous deployment tasks\n",
    "            - canary deployments\n",
    "            - A/B testing\n",
    "            - staged rollouts (% based)\n",
    "    - example: simple rule to send 100% of incoming traffic for a \"reviews\" service to \n",
    "      \"v1\" can be described using the Rules DSL as follows:\n",
    "        ```yaml\n",
    "        apiVersion: config.istio.io/v1alpha2\n",
    "        kind: RouteRule\n",
    "        metadata:\n",
    "            name: reviews-default\n",
    "        spec:\n",
    "            destination:\n",
    "                name: reviews\n",
    "            route:\n",
    "            - labels:\n",
    "                version: v1\n",
    "             weight: 100\n",
    "         ```\n",
    "    - \"destination\" is the name of the service\n",
    "    - \"labels\" identify specific service instances\n",
    "        - e.g. ...kubernetes... only pods with the label \"v1\" will recieve traffic\n",
    "- 3 kinds of traffic management rules in istio\n",
    "    - Route Rules\n",
    "    - Destination Policies (not the same as mixer policies)\n",
    "    - Egress Rules"
   ]
  },
  {
   "cell_type": "markdown",
   "metadata": {},
   "source": [
    "# Pilot\n",
    "\n",
    "- Service Discovery\n",
    "- Abstracts platform specific SD mechanisms "
   ]
  },
  {
   "cell_type": "markdown",
   "metadata": {},
   "source": [
    "# Data Plane\n",
    "\n",
    "- Composed of a set of intelligent proxies (Envoy) deployed as sidecars that mediate and control network communication between microservices"
   ]
  },
  {
   "cell_type": "markdown",
   "metadata": {},
   "source": [
    "# Control Plane\n",
    "\n",
    "- Responsible for managing and configuring proxies to route traffic and enforcing policies at runtime"
   ]
  },
  {
   "cell_type": "markdown",
   "metadata": {},
   "source": [
    "# Envoy\n",
    "\n",
    "- Mediates all inbound and outbound traffic for all services in the service mesh\n",
    "- Dynamic service discovery\n",
    "- load balancing\n",
    "- tls termination\n",
    "- http/2 & grpc proxying\n",
    "- circuit \n",
    "- health checks\n",
    "- staged rollouts w/ % based traffic split\n",
    "- fault injection\n",
    "- rich metrics\n",
    "- extracts signals about traffic behavior (requests, etc) that istio calls \"attributes\"\n",
    "    - Used in \"mixer\" to \n",
    "        - enforce policy decisions\n",
    "        - send to monitoring systems to provide information about the behavior of \n",
    "          the mesh"
   ]
  },
  {
   "cell_type": "markdown",
   "metadata": {},
   "source": [
    "# Istio-Auth\n",
    "\n",
    "- Provides strong S2S and E2E auth\n",
    "- Uses mutual TLS\n",
    "- Built in identity and credential management\n",
    "- Can be used to upgrade unencrypted traffic in the mesh\n",
    "- Enables enforcement of policy based on service identity rather than network controls\n",
    "- Future releases will add fine grained access control and auditing to control and monitor who accesses:\n",
    "    - a service\n",
    "    - api\n",
    "    - resource\n",
    "- access control:\n",
    "    - attributes\n",
    "    - RBAC\n",
    "    - Auth hooks"
   ]
  },
  {
   "cell_type": "markdown",
   "metadata": {},
   "source": [
    "# Attributes\n",
    "\n",
    "- Important notion\n",
    "- A central mechanism for how policies and control are applied to services within the mesh"
   ]
  },
  {
   "cell_type": "code",
   "execution_count": null,
   "metadata": {},
   "outputs": [],
   "source": []
  }
 ],
 "metadata": {
  "kernelspec": {
   "display_name": "Go",
   "language": "go",
   "name": "gophernotes"
  },
  "language_info": {
   "codemirror_mode": "",
   "file_extension": ".go",
   "mimetype": "",
   "name": "go",
   "nbconvert_exporter": "",
   "pygments_lexer": "",
   "version": "go1.9.1"
  },
  "toc": {
   "colors": {
    "hover_highlight": "#DAA520",
    "running_highlight": "#FF0000",
    "selected_highlight": "#FFD700"
   },
   "moveMenuLeft": true,
   "nav_menu": {
    "height": "178px",
    "width": "252px"
   },
   "navigate_menu": true,
   "number_sections": true,
   "sideBar": true,
   "threshold": 4,
   "toc_cell": false,
   "toc_section_display": "block",
   "toc_window_display": false
  }
 },
 "nbformat": 4,
 "nbformat_minor": 2
}
